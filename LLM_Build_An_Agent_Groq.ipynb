{
  "nbformat": 4,
  "nbformat_minor": 0,
  "metadata": {
    "colab": {
      "provenance": []
    },
    "kernelspec": {
      "name": "python3",
      "display_name": "Python 3"
    },
    "language_info": {
      "name": "python"
    }
  },
  "cells": [
    {
      "cell_type": "markdown",
      "source": [
        "**LLM Agent**"
      ],
      "metadata": {
        "id": "E323Dh79lhIo"
      }
    },
    {
      "cell_type": "markdown",
      "source": [
        "Aashutosh Joshi"
      ],
      "metadata": {
        "id": "VCBCV1ZKllKm"
      }
    },
    {
      "cell_type": "code",
      "execution_count": 1,
      "metadata": {
        "colab": {
          "base_uri": "https://localhost:8080/"
        },
        "id": "SpewcufgyeKf",
        "outputId": "e3a4ef1f-bd51-4e8c-a34c-f97b41fdc02b"
      },
      "outputs": [
        {
          "output_type": "stream",
          "name": "stdout",
          "text": [
            "Collecting langchain-community\n",
            "  Downloading langchain_community-0.3.3-py3-none-any.whl.metadata (2.8 kB)\n",
            "Collecting langgraph\n",
            "  Downloading langgraph-0.2.39-py3-none-any.whl.metadata (13 kB)\n",
            "Collecting langchain-anthropic\n",
            "  Downloading langchain_anthropic-0.2.3-py3-none-any.whl.metadata (2.3 kB)\n",
            "Collecting tavily-python\n",
            "  Downloading tavily_python-0.5.0-py3-none-any.whl.metadata (11 kB)\n",
            "Collecting langgraph-checkpoint-sqlite\n",
            "  Downloading langgraph_checkpoint_sqlite-2.0.1-py3-none-any.whl.metadata (3.0 kB)\n",
            "Requirement already satisfied: PyYAML>=5.3 in /usr/local/lib/python3.10/dist-packages (from langchain-community) (6.0.2)\n",
            "Requirement already satisfied: SQLAlchemy<3,>=1.4 in /usr/local/lib/python3.10/dist-packages (from langchain-community) (2.0.36)\n",
            "Requirement already satisfied: aiohttp<4.0.0,>=3.8.3 in /usr/local/lib/python3.10/dist-packages (from langchain-community) (3.10.10)\n",
            "Collecting dataclasses-json<0.7,>=0.5.7 (from langchain-community)\n",
            "  Downloading dataclasses_json-0.6.7-py3-none-any.whl.metadata (25 kB)\n",
            "Collecting langchain<0.4.0,>=0.3.4 (from langchain-community)\n",
            "  Downloading langchain-0.3.4-py3-none-any.whl.metadata (7.1 kB)\n",
            "Collecting langchain-core<0.4.0,>=0.3.12 (from langchain-community)\n",
            "  Downloading langchain_core-0.3.12-py3-none-any.whl.metadata (6.3 kB)\n",
            "Collecting langsmith<0.2.0,>=0.1.125 (from langchain-community)\n",
            "  Downloading langsmith-0.1.137-py3-none-any.whl.metadata (13 kB)\n",
            "Requirement already satisfied: numpy<2,>=1 in /usr/local/lib/python3.10/dist-packages (from langchain-community) (1.26.4)\n",
            "Collecting pydantic-settings<3.0.0,>=2.4.0 (from langchain-community)\n",
            "  Downloading pydantic_settings-2.6.0-py3-none-any.whl.metadata (3.5 kB)\n",
            "Requirement already satisfied: requests<3,>=2 in /usr/local/lib/python3.10/dist-packages (from langchain-community) (2.32.3)\n",
            "Requirement already satisfied: tenacity!=8.4.0,<10,>=8.1.0 in /usr/local/lib/python3.10/dist-packages (from langchain-community) (9.0.0)\n",
            "Collecting langgraph-checkpoint<3.0.0,>=2.0.0 (from langgraph)\n",
            "  Downloading langgraph_checkpoint-2.0.2-py3-none-any.whl.metadata (4.6 kB)\n",
            "Collecting langgraph-sdk<0.2.0,>=0.1.32 (from langgraph)\n",
            "  Downloading langgraph_sdk-0.1.34-py3-none-any.whl.metadata (1.8 kB)\n",
            "Collecting anthropic<1,>=0.30.0 (from langchain-anthropic)\n",
            "  Downloading anthropic-0.37.1-py3-none-any.whl.metadata (21 kB)\n",
            "Requirement already satisfied: defusedxml<0.8.0,>=0.7.1 in /usr/local/lib/python3.10/dist-packages (from langchain-anthropic) (0.7.1)\n",
            "Requirement already satisfied: pydantic<3.0.0,>=2.7.4 in /usr/local/lib/python3.10/dist-packages (from langchain-anthropic) (2.9.2)\n",
            "Collecting tiktoken>=0.5.1 (from tavily-python)\n",
            "  Downloading tiktoken-0.8.0-cp310-cp310-manylinux_2_17_x86_64.manylinux2014_x86_64.whl.metadata (6.6 kB)\n",
            "Collecting httpx (from tavily-python)\n",
            "  Downloading httpx-0.27.2-py3-none-any.whl.metadata (7.1 kB)\n",
            "Collecting aiosqlite<0.21.0,>=0.20.0 (from langgraph-checkpoint-sqlite)\n",
            "  Downloading aiosqlite-0.20.0-py3-none-any.whl.metadata (4.3 kB)\n",
            "Requirement already satisfied: aiohappyeyeballs>=2.3.0 in /usr/local/lib/python3.10/dist-packages (from aiohttp<4.0.0,>=3.8.3->langchain-community) (2.4.3)\n",
            "Requirement already satisfied: aiosignal>=1.1.2 in /usr/local/lib/python3.10/dist-packages (from aiohttp<4.0.0,>=3.8.3->langchain-community) (1.3.1)\n",
            "Requirement already satisfied: attrs>=17.3.0 in /usr/local/lib/python3.10/dist-packages (from aiohttp<4.0.0,>=3.8.3->langchain-community) (24.2.0)\n",
            "Requirement already satisfied: frozenlist>=1.1.1 in /usr/local/lib/python3.10/dist-packages (from aiohttp<4.0.0,>=3.8.3->langchain-community) (1.4.1)\n",
            "Requirement already satisfied: multidict<7.0,>=4.5 in /usr/local/lib/python3.10/dist-packages (from aiohttp<4.0.0,>=3.8.3->langchain-community) (6.1.0)\n",
            "Requirement already satisfied: yarl<2.0,>=1.12.0 in /usr/local/lib/python3.10/dist-packages (from aiohttp<4.0.0,>=3.8.3->langchain-community) (1.16.0)\n",
            "Requirement already satisfied: async-timeout<5.0,>=4.0 in /usr/local/lib/python3.10/dist-packages (from aiohttp<4.0.0,>=3.8.3->langchain-community) (4.0.3)\n",
            "Requirement already satisfied: typing_extensions>=4.0 in /usr/local/lib/python3.10/dist-packages (from aiosqlite<0.21.0,>=0.20.0->langgraph-checkpoint-sqlite) (4.12.2)\n",
            "Requirement already satisfied: anyio<5,>=3.5.0 in /usr/local/lib/python3.10/dist-packages (from anthropic<1,>=0.30.0->langchain-anthropic) (3.7.1)\n",
            "Requirement already satisfied: distro<2,>=1.7.0 in /usr/lib/python3/dist-packages (from anthropic<1,>=0.30.0->langchain-anthropic) (1.7.0)\n",
            "Collecting jiter<1,>=0.4.0 (from anthropic<1,>=0.30.0->langchain-anthropic)\n",
            "  Downloading jiter-0.6.1-cp310-cp310-manylinux_2_17_x86_64.manylinux2014_x86_64.whl.metadata (5.2 kB)\n",
            "Requirement already satisfied: sniffio in /usr/local/lib/python3.10/dist-packages (from anthropic<1,>=0.30.0->langchain-anthropic) (1.3.1)\n",
            "Requirement already satisfied: tokenizers>=0.13.0 in /usr/local/lib/python3.10/dist-packages (from anthropic<1,>=0.30.0->langchain-anthropic) (0.19.1)\n",
            "Collecting marshmallow<4.0.0,>=3.18.0 (from dataclasses-json<0.7,>=0.5.7->langchain-community)\n",
            "  Downloading marshmallow-3.23.0-py3-none-any.whl.metadata (7.6 kB)\n",
            "Collecting typing-inspect<1,>=0.4.0 (from dataclasses-json<0.7,>=0.5.7->langchain-community)\n",
            "  Downloading typing_inspect-0.9.0-py3-none-any.whl.metadata (1.5 kB)\n",
            "Requirement already satisfied: certifi in /usr/local/lib/python3.10/dist-packages (from httpx->tavily-python) (2024.8.30)\n",
            "Collecting httpcore==1.* (from httpx->tavily-python)\n",
            "  Downloading httpcore-1.0.6-py3-none-any.whl.metadata (21 kB)\n",
            "Requirement already satisfied: idna in /usr/local/lib/python3.10/dist-packages (from httpx->tavily-python) (3.10)\n",
            "Collecting h11<0.15,>=0.13 (from httpcore==1.*->httpx->tavily-python)\n",
            "  Downloading h11-0.14.0-py3-none-any.whl.metadata (8.2 kB)\n",
            "Collecting langchain-text-splitters<0.4.0,>=0.3.0 (from langchain<0.4.0,>=0.3.4->langchain-community)\n",
            "  Downloading langchain_text_splitters-0.3.0-py3-none-any.whl.metadata (2.3 kB)\n",
            "Collecting jsonpatch<2.0,>=1.33 (from langchain-core<0.4.0,>=0.3.12->langchain-community)\n",
            "  Downloading jsonpatch-1.33-py2.py3-none-any.whl.metadata (3.0 kB)\n",
            "Requirement already satisfied: packaging<25,>=23.2 in /usr/local/lib/python3.10/dist-packages (from langchain-core<0.4.0,>=0.3.12->langchain-community) (24.1)\n",
            "Requirement already satisfied: msgpack<2.0.0,>=1.1.0 in /usr/local/lib/python3.10/dist-packages (from langgraph-checkpoint<3.0.0,>=2.0.0->langgraph) (1.1.0)\n",
            "Collecting httpx-sse>=0.4.0 (from langgraph-sdk<0.2.0,>=0.1.32->langgraph)\n",
            "  Downloading httpx_sse-0.4.0-py3-none-any.whl.metadata (9.0 kB)\n",
            "Collecting orjson>=3.10.1 (from langgraph-sdk<0.2.0,>=0.1.32->langgraph)\n",
            "  Downloading orjson-3.10.10-cp310-cp310-manylinux_2_17_x86_64.manylinux2014_x86_64.whl.metadata (50 kB)\n",
            "\u001b[2K     \u001b[90m━━━━━━━━━━━━━━━━━━━━━━━━━━━━━━━━━━━━━━━━\u001b[0m \u001b[32m50.6/50.6 kB\u001b[0m \u001b[31m1.5 MB/s\u001b[0m eta \u001b[36m0:00:00\u001b[0m\n",
            "\u001b[?25hCollecting requests-toolbelt<2.0.0,>=1.0.0 (from langsmith<0.2.0,>=0.1.125->langchain-community)\n",
            "  Downloading requests_toolbelt-1.0.0-py2.py3-none-any.whl.metadata (14 kB)\n",
            "Requirement already satisfied: annotated-types>=0.6.0 in /usr/local/lib/python3.10/dist-packages (from pydantic<3.0.0,>=2.7.4->langchain-anthropic) (0.7.0)\n",
            "Requirement already satisfied: pydantic-core==2.23.4 in /usr/local/lib/python3.10/dist-packages (from pydantic<3.0.0,>=2.7.4->langchain-anthropic) (2.23.4)\n",
            "Collecting python-dotenv>=0.21.0 (from pydantic-settings<3.0.0,>=2.4.0->langchain-community)\n",
            "  Downloading python_dotenv-1.0.1-py3-none-any.whl.metadata (23 kB)\n",
            "Requirement already satisfied: charset-normalizer<4,>=2 in /usr/local/lib/python3.10/dist-packages (from requests<3,>=2->langchain-community) (3.4.0)\n",
            "Requirement already satisfied: urllib3<3,>=1.21.1 in /usr/local/lib/python3.10/dist-packages (from requests<3,>=2->langchain-community) (2.2.3)\n",
            "Requirement already satisfied: greenlet!=0.4.17 in /usr/local/lib/python3.10/dist-packages (from SQLAlchemy<3,>=1.4->langchain-community) (3.1.1)\n",
            "Requirement already satisfied: regex>=2022.1.18 in /usr/local/lib/python3.10/dist-packages (from tiktoken>=0.5.1->tavily-python) (2024.9.11)\n",
            "Requirement already satisfied: exceptiongroup in /usr/local/lib/python3.10/dist-packages (from anyio<5,>=3.5.0->anthropic<1,>=0.30.0->langchain-anthropic) (1.2.2)\n",
            "Collecting jsonpointer>=1.9 (from jsonpatch<2.0,>=1.33->langchain-core<0.4.0,>=0.3.12->langchain-community)\n",
            "  Downloading jsonpointer-3.0.0-py2.py3-none-any.whl.metadata (2.3 kB)\n",
            "Requirement already satisfied: huggingface-hub<1.0,>=0.16.4 in /usr/local/lib/python3.10/dist-packages (from tokenizers>=0.13.0->anthropic<1,>=0.30.0->langchain-anthropic) (0.24.7)\n",
            "Collecting mypy-extensions>=0.3.0 (from typing-inspect<1,>=0.4.0->dataclasses-json<0.7,>=0.5.7->langchain-community)\n",
            "  Downloading mypy_extensions-1.0.0-py3-none-any.whl.metadata (1.1 kB)\n",
            "Requirement already satisfied: propcache>=0.2.0 in /usr/local/lib/python3.10/dist-packages (from yarl<2.0,>=1.12.0->aiohttp<4.0.0,>=3.8.3->langchain-community) (0.2.0)\n",
            "Requirement already satisfied: filelock in /usr/local/lib/python3.10/dist-packages (from huggingface-hub<1.0,>=0.16.4->tokenizers>=0.13.0->anthropic<1,>=0.30.0->langchain-anthropic) (3.16.1)\n",
            "Requirement already satisfied: fsspec>=2023.5.0 in /usr/local/lib/python3.10/dist-packages (from huggingface-hub<1.0,>=0.16.4->tokenizers>=0.13.0->anthropic<1,>=0.30.0->langchain-anthropic) (2024.6.1)\n",
            "Requirement already satisfied: tqdm>=4.42.1 in /usr/local/lib/python3.10/dist-packages (from huggingface-hub<1.0,>=0.16.4->tokenizers>=0.13.0->anthropic<1,>=0.30.0->langchain-anthropic) (4.66.5)\n",
            "Downloading langchain_community-0.3.3-py3-none-any.whl (2.4 MB)\n",
            "\u001b[2K   \u001b[90m━━━━━━━━━━━━━━━━━━━━━━━━━━━━━━━━━━━━━━━━\u001b[0m \u001b[32m2.4/2.4 MB\u001b[0m \u001b[31m31.4 MB/s\u001b[0m eta \u001b[36m0:00:00\u001b[0m\n",
            "\u001b[?25hDownloading langgraph-0.2.39-py3-none-any.whl (113 kB)\n",
            "\u001b[2K   \u001b[90m━━━━━━━━━━━━━━━━━━━━━━━━━━━━━━━━━━━━━━━━\u001b[0m \u001b[32m113.5/113.5 kB\u001b[0m \u001b[31m7.8 MB/s\u001b[0m eta \u001b[36m0:00:00\u001b[0m\n",
            "\u001b[?25hDownloading langchain_anthropic-0.2.3-py3-none-any.whl (21 kB)\n",
            "Downloading tavily_python-0.5.0-py3-none-any.whl (14 kB)\n",
            "Downloading langgraph_checkpoint_sqlite-2.0.1-py3-none-any.whl (12 kB)\n",
            "Downloading aiosqlite-0.20.0-py3-none-any.whl (15 kB)\n",
            "Downloading anthropic-0.37.1-py3-none-any.whl (945 kB)\n",
            "\u001b[2K   \u001b[90m━━━━━━━━━━━━━━━━━━━━━━━━━━━━━━━━━━━━━━━━\u001b[0m \u001b[32m946.0/946.0 kB\u001b[0m \u001b[31m36.2 MB/s\u001b[0m eta \u001b[36m0:00:00\u001b[0m\n",
            "\u001b[?25hDownloading dataclasses_json-0.6.7-py3-none-any.whl (28 kB)\n",
            "Downloading httpx-0.27.2-py3-none-any.whl (76 kB)\n",
            "\u001b[2K   \u001b[90m━━━━━━━━━━━━━━━━━━━━━━━━━━━━━━━━━━━━━━━━\u001b[0m \u001b[32m76.4/76.4 kB\u001b[0m \u001b[31m4.5 MB/s\u001b[0m eta \u001b[36m0:00:00\u001b[0m\n",
            "\u001b[?25hDownloading httpcore-1.0.6-py3-none-any.whl (78 kB)\n",
            "\u001b[2K   \u001b[90m━━━━━━━━━━━━━━━━━━━━━━━━━━━━━━━━━━━━━━━━\u001b[0m \u001b[32m78.0/78.0 kB\u001b[0m \u001b[31m5.3 MB/s\u001b[0m eta \u001b[36m0:00:00\u001b[0m\n",
            "\u001b[?25hDownloading langchain-0.3.4-py3-none-any.whl (1.0 MB)\n",
            "\u001b[2K   \u001b[90m━━━━━━━━━━━━━━━━━━━━━━━━━━━━━━━━━━━━━━━━\u001b[0m \u001b[32m1.0/1.0 MB\u001b[0m \u001b[31m39.9 MB/s\u001b[0m eta \u001b[36m0:00:00\u001b[0m\n",
            "\u001b[?25hDownloading langchain_core-0.3.12-py3-none-any.whl (407 kB)\n",
            "\u001b[2K   \u001b[90m━━━━━━━━━━━━━━━━━━━━━━━━━━━━━━━━━━━━━━━━\u001b[0m \u001b[32m407.7/407.7 kB\u001b[0m \u001b[31m25.9 MB/s\u001b[0m eta \u001b[36m0:00:00\u001b[0m\n",
            "\u001b[?25hDownloading langgraph_checkpoint-2.0.2-py3-none-any.whl (23 kB)\n",
            "Downloading langgraph_sdk-0.1.34-py3-none-any.whl (28 kB)\n",
            "Downloading langsmith-0.1.137-py3-none-any.whl (296 kB)\n",
            "\u001b[2K   \u001b[90m━━━━━━━━━━━━━━━━━━━━━━━━━━━━━━━━━━━━━━━━\u001b[0m \u001b[32m296.9/296.9 kB\u001b[0m \u001b[31m19.3 MB/s\u001b[0m eta \u001b[36m0:00:00\u001b[0m\n",
            "\u001b[?25hDownloading pydantic_settings-2.6.0-py3-none-any.whl (28 kB)\n",
            "Downloading tiktoken-0.8.0-cp310-cp310-manylinux_2_17_x86_64.manylinux2014_x86_64.whl (1.2 MB)\n",
            "\u001b[2K   \u001b[90m━━━━━━━━━━━━━━━━━━━━━━━━━━━━━━━━━━━━━━━━\u001b[0m \u001b[32m1.2/1.2 MB\u001b[0m \u001b[31m42.4 MB/s\u001b[0m eta \u001b[36m0:00:00\u001b[0m\n",
            "\u001b[?25hDownloading httpx_sse-0.4.0-py3-none-any.whl (7.8 kB)\n",
            "Downloading jiter-0.6.1-cp310-cp310-manylinux_2_17_x86_64.manylinux2014_x86_64.whl (325 kB)\n",
            "\u001b[2K   \u001b[90m━━━━━━━━━━━━━━━━━━━━━━━━━━━━━━━━━━━━━━━━\u001b[0m \u001b[32m325.2/325.2 kB\u001b[0m \u001b[31m18.7 MB/s\u001b[0m eta \u001b[36m0:00:00\u001b[0m\n",
            "\u001b[?25hDownloading jsonpatch-1.33-py2.py3-none-any.whl (12 kB)\n",
            "Downloading langchain_text_splitters-0.3.0-py3-none-any.whl (25 kB)\n",
            "Downloading marshmallow-3.23.0-py3-none-any.whl (49 kB)\n",
            "\u001b[2K   \u001b[90m━━━━━━━━━━━━━━━━━━━━━━━━━━━━━━━━━━━━━━━━\u001b[0m \u001b[32m49.5/49.5 kB\u001b[0m \u001b[31m3.2 MB/s\u001b[0m eta \u001b[36m0:00:00\u001b[0m\n",
            "\u001b[?25hDownloading orjson-3.10.10-cp310-cp310-manylinux_2_17_x86_64.manylinux2014_x86_64.whl (144 kB)\n",
            "\u001b[2K   \u001b[90m━━━━━━━━━━━━━━━━━━━━━━━━━━━━━━━━━━━━━━━━\u001b[0m \u001b[32m144.5/144.5 kB\u001b[0m \u001b[31m9.2 MB/s\u001b[0m eta \u001b[36m0:00:00\u001b[0m\n",
            "\u001b[?25hDownloading python_dotenv-1.0.1-py3-none-any.whl (19 kB)\n",
            "Downloading requests_toolbelt-1.0.0-py2.py3-none-any.whl (54 kB)\n",
            "\u001b[2K   \u001b[90m━━━━━━━━━━━━━━━━━━━━━━━━━━━━━━━━━━━━━━━━\u001b[0m \u001b[32m54.5/54.5 kB\u001b[0m \u001b[31m3.8 MB/s\u001b[0m eta \u001b[36m0:00:00\u001b[0m\n",
            "\u001b[?25hDownloading typing_inspect-0.9.0-py3-none-any.whl (8.8 kB)\n",
            "Downloading h11-0.14.0-py3-none-any.whl (58 kB)\n",
            "\u001b[2K   \u001b[90m━━━━━━━━━━━━━━━━━━━━━━━━━━━━━━━━━━━━━━━━\u001b[0m \u001b[32m58.3/58.3 kB\u001b[0m \u001b[31m3.1 MB/s\u001b[0m eta \u001b[36m0:00:00\u001b[0m\n",
            "\u001b[?25hDownloading jsonpointer-3.0.0-py2.py3-none-any.whl (7.6 kB)\n",
            "Downloading mypy_extensions-1.0.0-py3-none-any.whl (4.7 kB)\n",
            "Installing collected packages: python-dotenv, orjson, mypy-extensions, marshmallow, jsonpointer, jiter, httpx-sse, h11, aiosqlite, typing-inspect, tiktoken, requests-toolbelt, jsonpatch, httpcore, pydantic-settings, httpx, dataclasses-json, tavily-python, langsmith, langgraph-sdk, anthropic, langchain-core, langgraph-checkpoint, langchain-text-splitters, langchain-anthropic, langgraph-checkpoint-sqlite, langgraph, langchain, langchain-community\n",
            "Successfully installed aiosqlite-0.20.0 anthropic-0.37.1 dataclasses-json-0.6.7 h11-0.14.0 httpcore-1.0.6 httpx-0.27.2 httpx-sse-0.4.0 jiter-0.6.1 jsonpatch-1.33 jsonpointer-3.0.0 langchain-0.3.4 langchain-anthropic-0.2.3 langchain-community-0.3.3 langchain-core-0.3.12 langchain-text-splitters-0.3.0 langgraph-0.2.39 langgraph-checkpoint-2.0.2 langgraph-checkpoint-sqlite-2.0.1 langgraph-sdk-0.1.34 langsmith-0.1.137 marshmallow-3.23.0 mypy-extensions-1.0.0 orjson-3.10.10 pydantic-settings-2.6.0 python-dotenv-1.0.1 requests-toolbelt-1.0.0 tavily-python-0.5.0 tiktoken-0.8.0 typing-inspect-0.9.0\n"
          ]
        }
      ],
      "source": [
        "%pip install -U langchain-community langgraph langchain-anthropic tavily-python langgraph-checkpoint-sqlite"
      ]
    },
    {
      "cell_type": "code",
      "source": [
        "import getpass\n",
        "import os\n",
        "\n",
        "os.environ[\"LANGCHAIN_TRACING_V2\"] = \"true\"\n",
        "os.environ[\"LANGCHAIN_API_KEY\"] = getpass.getpass()"
      ],
      "metadata": {
        "colab": {
          "base_uri": "https://localhost:8080/"
        },
        "id": "ktGxgOPVzo9x",
        "outputId": "0b197930-d289-4eda-9c0f-e0a48659bdb4"
      },
      "execution_count": 2,
      "outputs": [
        {
          "name": "stdout",
          "output_type": "stream",
          "text": [
            "··········\n"
          ]
        }
      ]
    },
    {
      "cell_type": "code",
      "source": [
        "import getpass\n",
        "import os\n",
        "\n",
        "os.environ[\"TAVILY_API_KEY\"] = getpass.getpass()"
      ],
      "metadata": {
        "colab": {
          "base_uri": "https://localhost:8080/"
        },
        "id": "OgE_KiuSz054",
        "outputId": "5428cf3f-0a44-4113-83e3-99622ced9c26"
      },
      "execution_count": 3,
      "outputs": [
        {
          "name": "stdout",
          "output_type": "stream",
          "text": [
            "··········\n"
          ]
        }
      ]
    },
    {
      "cell_type": "code",
      "source": [
        "from langchain_community.tools.tavily_search import TavilySearchResults\n",
        "\n",
        "search = TavilySearchResults(max_results=2)\n",
        "search_results = search.invoke(\"what is the weather in SF\")\n",
        "print(search_results)\n",
        "# If we want, we can create other tools.\n",
        "# Once we have all the tools we want, we can put them in a list that we will reference later.\n",
        "tools = [search]"
      ],
      "metadata": {
        "colab": {
          "base_uri": "https://localhost:8080/"
        },
        "id": "3eYGF0ZLhS2m",
        "outputId": "55309668-bc72-46a5-af83-12cfe58fc359"
      },
      "execution_count": 4,
      "outputs": [
        {
          "output_type": "stream",
          "name": "stdout",
          "text": [
            "[{'url': 'https://www.weatherapi.com/', 'content': \"{'location': {'name': 'San Francisco', 'region': 'California', 'country': 'United States of America', 'lat': 37.775, 'lon': -122.4183, 'tz_id': 'America/Los_Angeles', 'localtime_epoch': 1729890770, 'localtime': '2024-10-25 14:12'}, 'current': {'last_updated_epoch': 1729890000, 'last_updated': '2024-10-25 14:00', 'temp_c': 20.4, 'temp_f': 68.7, 'is_day': 1, 'condition': {'text': 'Partly cloudy', 'icon': '//cdn.weatherapi.com/weather/64x64/day/116.png', 'code': 1003}, 'wind_mph': 4.9, 'wind_kph': 7.9, 'wind_degree': 266, 'wind_dir': 'W', 'pressure_mb': 1016.0, 'pressure_in': 30.01, 'precip_mm': 0.0, 'precip_in': 0.0, 'humidity': 47, 'cloud': 50, 'feelslike_c': 20.4, 'feelslike_f': 68.7, 'windchill_c': 19.1, 'windchill_f': 66.4, 'heatindex_c': 19.1, 'heatindex_f': 66.4, 'dewpoint_c': 3.8, 'dewpoint_f': 38.8, 'vis_km': 16.0, 'vis_miles': 9.0, 'uv': 5.0, 'gust_mph': 7.5, 'gust_kph': 12.1}}\"}, {'url': 'https://www.msn.com/en-us/weather/topstories/october-25-2024-san-francisco-bay-area-weather-forecast/vi-AA1sUYWX', 'content': 'October 25, 2024 San Francisco Bay Area weather forecast. Posted: October 25, 2024 | Last updated: October 25, 2024. KRON4 Meteorologist Dave Spahr has the latest check on the weather. <a href'}]\n"
          ]
        }
      ]
    },
    {
      "cell_type": "code",
      "source": [
        "pip install -qU langchain-groq"
      ],
      "metadata": {
        "colab": {
          "base_uri": "https://localhost:8080/"
        },
        "id": "fq_Kp7FDiBCt",
        "outputId": "73dbc631-de06-45b8-ed5d-15ded1a27284"
      },
      "execution_count": 5,
      "outputs": [
        {
          "output_type": "stream",
          "name": "stdout",
          "text": [
            "\u001b[?25l   \u001b[90m━━━━━━━━━━━━━━━━━━━━━━━━━━━━━━━━━━━━━━━━\u001b[0m \u001b[32m0.0/106.5 kB\u001b[0m \u001b[31m?\u001b[0m eta \u001b[36m-:--:--\u001b[0m\r\u001b[2K   \u001b[90m━━━━━━━━━━━━━━━━━━━━━━━━━━━━━━━━━━━━━━━━\u001b[0m \u001b[32m106.5/106.5 kB\u001b[0m \u001b[31m3.4 MB/s\u001b[0m eta \u001b[36m0:00:00\u001b[0m\n",
            "\u001b[?25h"
          ]
        }
      ]
    },
    {
      "cell_type": "code",
      "source": [
        "import getpass\n",
        "import os\n",
        "\n",
        "os.environ[\"GROQ_API_KEY\"] = getpass.getpass()\n",
        "\n",
        "from langchain_groq import ChatGroq\n",
        "\n",
        "model = ChatGroq(model=\"llama3-8b-8192\")"
      ],
      "metadata": {
        "colab": {
          "base_uri": "https://localhost:8080/"
        },
        "id": "wR05WqvyiNuR",
        "outputId": "ee22d82e-29dd-4371-b3ec-0e67d8b99b8a"
      },
      "execution_count": 6,
      "outputs": [
        {
          "name": "stdout",
          "output_type": "stream",
          "text": [
            "··········\n"
          ]
        }
      ]
    },
    {
      "cell_type": "code",
      "source": [
        "from langchain_core.messages import HumanMessage\n",
        "\n",
        "response = model.invoke([HumanMessage(content=\"hi!\")])\n",
        "response.content"
      ],
      "metadata": {
        "colab": {
          "base_uri": "https://localhost:8080/",
          "height": 36
        },
        "id": "CswKW2EQiYfS",
        "outputId": "d4566684-0217-4bfb-ecd0-1434419f541a"
      },
      "execution_count": 7,
      "outputs": [
        {
          "output_type": "execute_result",
          "data": {
            "text/plain": [
              "\"Hi! It's nice to meet you. Is there something I can help you with or would you like to chat?\""
            ],
            "application/vnd.google.colaboratory.intrinsic+json": {
              "type": "string"
            }
          },
          "metadata": {},
          "execution_count": 7
        }
      ]
    },
    {
      "cell_type": "code",
      "source": [
        "model_with_tools = model.bind_tools(tools)"
      ],
      "metadata": {
        "id": "R4ZIMQmHigWp"
      },
      "execution_count": 8,
      "outputs": []
    },
    {
      "cell_type": "code",
      "source": [
        "response = model_with_tools.invoke([HumanMessage(content=\"Hi!\")])\n",
        "\n",
        "print(f\"ContentString: {response.content}\")\n",
        "print(f\"ToolCalls: {response.tool_calls}\")"
      ],
      "metadata": {
        "colab": {
          "base_uri": "https://localhost:8080/"
        },
        "id": "bZJPOSzsi03C",
        "outputId": "88da18c1-a132-487d-d7b8-1703efa3bfed"
      },
      "execution_count": 9,
      "outputs": [
        {
          "output_type": "stream",
          "name": "stdout",
          "text": [
            "ContentString: \n",
            "ToolCalls: [{'name': 'tavily_search_results_json', 'args': {'query': 'Hi!'}, 'id': 'call_3bfd', 'type': 'tool_call'}]\n"
          ]
        }
      ]
    },
    {
      "cell_type": "code",
      "source": [
        "response = model_with_tools.invoke([HumanMessage(content=\"What's the weather in SF?\")])\n",
        "\n",
        "print(f\"ContentString: {response.content}\")\n",
        "print(f\"ToolCalls: {response.tool_calls}\")"
      ],
      "metadata": {
        "colab": {
          "base_uri": "https://localhost:8080/"
        },
        "id": "R_-Axi1ji7Du",
        "outputId": "76ec1678-9f93-4cbe-ff1f-5b32dd2eabbe"
      },
      "execution_count": 10,
      "outputs": [
        {
          "output_type": "stream",
          "name": "stdout",
          "text": [
            "ContentString: \n",
            "ToolCalls: [{'name': 'tavily_search_results_json', 'args': {'query': 'weather in San Francisco'}, 'id': 'call_0fy8', 'type': 'tool_call'}]\n"
          ]
        }
      ]
    },
    {
      "cell_type": "code",
      "source": [
        "from langgraph.prebuilt import create_react_agent\n",
        "\n",
        "agent_executor = create_react_agent(model, tools)"
      ],
      "metadata": {
        "id": "ZbGxqJY7jHGj"
      },
      "execution_count": 11,
      "outputs": []
    },
    {
      "cell_type": "code",
      "source": [
        "response = agent_executor.invoke({\"messages\": [HumanMessage(content=\"hi!\")]})\n",
        "\n",
        "response[\"messages\"]"
      ],
      "metadata": {
        "colab": {
          "base_uri": "https://localhost:8080/"
        },
        "id": "Ltb6FPwJjiwD",
        "outputId": "da1f4468-8da7-4796-ff5c-63786dfe7221"
      },
      "execution_count": 18,
      "outputs": [
        {
          "output_type": "execute_result",
          "data": {
            "text/plain": [
              "[HumanMessage(content='hi!', additional_kwargs={}, response_metadata={}, id='b6469b0d-83d7-4b6c-9f43-fda492ed5351'),\n",
              " AIMessage(content='', additional_kwargs={'tool_calls': [{'id': 'call_3a4z', 'function': {'arguments': '{\"query\":\"hi\"}', 'name': 'tavily_search_results_json'}, 'type': 'function'}]}, response_metadata={'token_usage': {'completion_tokens': 77, 'prompt_tokens': 941, 'total_tokens': 1018, 'completion_time': 0.066419914, 'prompt_time': 0.051749726, 'queue_time': 0.0020757829999999977, 'total_time': 0.11816964}, 'model_name': 'llama3-8b-8192', 'system_fingerprint': 'fp_179b0f92c9', 'finish_reason': 'tool_calls', 'logprobs': None}, id='run-b2e48a57-f895-441c-bfa3-43929fd95489-0', tool_calls=[{'name': 'tavily_search_results_json', 'args': {'query': 'hi'}, 'id': 'call_3a4z', 'type': 'tool_call'}], usage_metadata={'input_tokens': 941, 'output_tokens': 77, 'total_tokens': 1018}),\n",
              " ToolMessage(content=\"HTTPError('400 Client Error: Bad Request for url: https://api.tavily.com/search')\", name='tavily_search_results_json', id='35da0dca-d780-4b99-9404-40e6b43b0c2b', tool_call_id='call_3a4z', artifact={}),\n",
              " AIMessage(content='', additional_kwargs={'tool_calls': [{'id': 'call_4s5x', 'function': {'arguments': '{\"query\":\"error\"}', 'name': 'tavily_search_results_json'}, 'type': 'function'}]}, response_metadata={'token_usage': {'completion_tokens': 37, 'prompt_tokens': 1032, 'total_tokens': 1069, 'completion_time': 0.030833333, 'prompt_time': 0.047714229, 'queue_time': -0.009467889, 'total_time': 0.078547562}, 'model_name': 'llama3-8b-8192', 'system_fingerprint': 'fp_179b0f92c9', 'finish_reason': 'tool_calls', 'logprobs': None}, id='run-a8954709-2af0-42fc-8183-c069b93bc3b9-0', tool_calls=[{'name': 'tavily_search_results_json', 'args': {'query': 'error'}, 'id': 'call_4s5x', 'type': 'tool_call'}], usage_metadata={'input_tokens': 1032, 'output_tokens': 37, 'total_tokens': 1069}),\n",
              " ToolMessage(content='[{\"url\": \"https://en.wikipedia.org/wiki/Error\", \"content\": \"Error is an inaccurate or incorrect action, thought, or judgement. Learn about different kinds of errors in human behavior, language, science, engineering, and more, with examples and references.\"}, {\"url\": \"https://www.dictionary.com/browse/+error\", \"content\": \"Learn the meaning of error as a mistake, a wrong belief, or a deviation from accuracy or correctness. Find synonyms, related words, and example sentences for error in different contexts.\"}]', name='tavily_search_results_json', id='f20d14cc-adef-48b1-88f3-3ec0a0fd84c1', tool_call_id='call_4s5x', artifact={'query': 'error', 'follow_up_questions': None, 'answer': None, 'images': [], 'results': [{'title': 'Error - Wikipedia', 'url': 'https://en.wikipedia.org/wiki/Error', 'content': 'Error is an inaccurate or incorrect action, thought, or judgement. Learn about different kinds of errors in human behavior, language, science, engineering, and more, with examples and references.', 'score': 0.99271095, 'raw_content': None}, {'title': 'ERROR Definition & Meaning | Dictionary.com', 'url': 'https://www.dictionary.com/browse/+error', 'content': 'Learn the meaning of error as a mistake, a wrong belief, or a deviation from accuracy or correctness. Find synonyms, related words, and example sentences for error in different contexts.', 'score': 0.9883128, 'raw_content': None}], 'response_time': 3.85}),\n",
              " AIMessage(content='', additional_kwargs={'tool_calls': [{'id': 'call_e44z', 'function': {'arguments': '{\"query\":\"define error\"}', 'name': 'tavily_search_results_json'}, 'type': 'function'}]}, response_metadata={'token_usage': {'completion_tokens': 38, 'prompt_tokens': 1210, 'total_tokens': 1248, 'completion_time': 0.031666667, 'prompt_time': 0.136395245, 'queue_time': 0.0010038139999999918, 'total_time': 0.168061912}, 'model_name': 'llama3-8b-8192', 'system_fingerprint': 'fp_af05557ca2', 'finish_reason': 'tool_calls', 'logprobs': None}, id='run-3f6633f1-e179-4ecd-8d85-aa67757622f5-0', tool_calls=[{'name': 'tavily_search_results_json', 'args': {'query': 'define error'}, 'id': 'call_e44z', 'type': 'tool_call'}], usage_metadata={'input_tokens': 1210, 'output_tokens': 38, 'total_tokens': 1248}),\n",
              " ToolMessage(content='[{\"url\": \"https://www.merriam-webster.com/dictionary/errors\", \"content\": \"The meaning of ERROR is an act or condition of ignorant or imprudent deviation from a code of behavior. How to use error in a sentence. Synonym Discussion of Error.\"}, {\"url\": \"https://www.dictionary.com/browse/+error\", \"content\": \"Learn the meaning of error as a noun, with synonyms, examples, and related terms. Error can refer to a mistake, a wrong belief, a sin, or a statistical difference.\"}]', name='tavily_search_results_json', id='00185e54-6361-482a-aff0-aa8d797f72a0', tool_call_id='call_e44z', artifact={'query': 'define error', 'follow_up_questions': None, 'answer': None, 'images': [], 'results': [{'title': 'Errors Definition & Meaning - Merriam-Webster', 'url': 'https://www.merriam-webster.com/dictionary/errors', 'content': 'The meaning of ERROR is an act or condition of ignorant or imprudent deviation from a code of behavior. How to use error in a sentence. Synonym Discussion of Error.', 'score': 0.99522626, 'raw_content': None}, {'title': 'ERROR Definition & Meaning | Dictionary.com', 'url': 'https://www.dictionary.com/browse/+error', 'content': 'Learn the meaning of error as a noun, with synonyms, examples, and related terms. Error can refer to a mistake, a wrong belief, a sin, or a statistical difference.', 'score': 0.9913223, 'raw_content': None}], 'response_time': 3.6}),\n",
              " AIMessage(content=\"The provided tools have yielded relevant results. The outputs can be used to directly answer the user's question. Here's a direct response:\\n\\nError is an act or condition of ignorant or imprudent deviation from a code of behavior. It can refer to a mistake, a wrong belief, a sin, or a statistical difference. The meaning of error can be found in multiple sources, including dictionaries and online encyclopedias.\", additional_kwargs={}, response_metadata={'token_usage': {'completion_tokens': 86, 'prompt_tokens': 1390, 'total_tokens': 1476, 'completion_time': 0.071666667, 'prompt_time': 0.156753018, 'queue_time': 0.0008083210000000007, 'total_time': 0.228419685}, 'model_name': 'llama3-8b-8192', 'system_fingerprint': 'fp_af05557ca2', 'finish_reason': 'stop', 'logprobs': None}, id='run-3cab0a12-10cc-4e0d-949f-1b8c8da19741-0', usage_metadata={'input_tokens': 1390, 'output_tokens': 86, 'total_tokens': 1476})]"
            ]
          },
          "metadata": {},
          "execution_count": 18
        }
      ]
    },
    {
      "cell_type": "code",
      "source": [
        "response = agent_executor.invoke(\n",
        "    {\"messages\": [HumanMessage(content=\"whats the weather in sf?\")]}\n",
        ")\n",
        "response[\"messages\"]"
      ],
      "metadata": {
        "colab": {
          "base_uri": "https://localhost:8080/"
        },
        "id": "Y3jVrLAFjuS6",
        "outputId": "b7988443-a079-4597-8786-bde728040158"
      },
      "execution_count": 17,
      "outputs": [
        {
          "output_type": "execute_result",
          "data": {
            "text/plain": [
              "[HumanMessage(content='whats the weather in sf?', additional_kwargs={}, response_metadata={}, id='f017d869-96de-4027-bb00-bdb31df04279'),\n",
              " AIMessage(content='', additional_kwargs={'tool_calls': [{'id': 'call_0drh', 'function': {'arguments': '{\"query\":\"weather in San Francisco\"}', 'name': 'tavily_search_results_json'}, 'type': 'function'}]}, response_metadata={'token_usage': {'completion_tokens': 73, 'prompt_tokens': 1911, 'total_tokens': 1984, 'completion_time': 0.060833333, 'prompt_time': 0.224155258, 'queue_time': -0.310794748, 'total_time': 0.284988591}, 'model_name': 'llama3-8b-8192', 'system_fingerprint': 'fp_6a6771ae9c', 'finish_reason': 'tool_calls', 'logprobs': None}, id='run-db177a98-cf58-4788-a3f5-2d825147f941-0', tool_calls=[{'name': 'tavily_search_results_json', 'args': {'query': 'weather in San Francisco'}, 'id': 'call_0drh', 'type': 'tool_call'}], usage_metadata={'input_tokens': 1911, 'output_tokens': 73, 'total_tokens': 1984}),\n",
              " ToolMessage(content='[{\"url\": \"https://www.weatherapi.com/\", \"content\": \"{\\'location\\': {\\'name\\': \\'San Francisco\\', \\'region\\': \\'California\\', \\'country\\': \\'United States of America\\', \\'lat\\': 37.775, \\'lon\\': -122.4183, \\'tz_id\\': \\'America/Los_Angeles\\', \\'localtime_epoch\\': 1729891400, \\'localtime\\': \\'2024-10-25 14:23\\'}, \\'current\\': {\\'last_updated_epoch\\': 1729890900, \\'last_updated\\': \\'2024-10-25 14:15\\', \\'temp_c\\': 20.2, \\'temp_f\\': 68.4, \\'is_day\\': 1, \\'condition\\': {\\'text\\': \\'Partly cloudy\\', \\'icon\\': \\'//cdn.weatherapi.com/weather/64x64/day/116.png\\', \\'code\\': 1003}, \\'wind_mph\\': 4.9, \\'wind_kph\\': 7.9, \\'wind_degree\\': 266, \\'wind_dir\\': \\'W\\', \\'pressure_mb\\': 1015.0, \\'pressure_in\\': 29.98, \\'precip_mm\\': 0.0, \\'precip_in\\': 0.0, \\'humidity\\': 61, \\'cloud\\': 50, \\'feelslike_c\\': 20.2, \\'feelslike_f\\': 68.4, \\'windchill_c\\': 19.1, \\'windchill_f\\': 66.4, \\'heatindex_c\\': 19.1, \\'heatindex_f\\': 66.4, \\'dewpoint_c\\': 3.8, \\'dewpoint_f\\': 38.8, \\'vis_km\\': 16.0, \\'vis_miles\\': 9.0, \\'uv\\': 5.0, \\'gust_mph\\': 7.5, \\'gust_kph\\': 12.1}}\"}, {\"url\": \"https://www.weather.gov/mtr/\", \"content\": \"Current Hazards. Current Outlooks; Daily Briefing; Submit Report; Detailed Hazards; ... Oct 25, 2024 at 4:16:10 am PDT Watches, Warnings & Advisories. Zoom Out. There are no watches, warnings, or advisories at this time. ... National Weather Service San Francisco Bay Area, CA 21 Grace Hopper Ave, Stop 5 Monterey, CA 93943-5505\"}]', name='tavily_search_results_json', id='0c438224-6062-492b-b4c7-230a3568a48a', tool_call_id='call_0drh', artifact={'query': 'weather in San Francisco', 'follow_up_questions': None, 'answer': None, 'images': [], 'results': [{'title': 'Weather in San Francisco', 'url': 'https://www.weatherapi.com/', 'content': \"{'location': {'name': 'San Francisco', 'region': 'California', 'country': 'United States of America', 'lat': 37.775, 'lon': -122.4183, 'tz_id': 'America/Los_Angeles', 'localtime_epoch': 1729891400, 'localtime': '2024-10-25 14:23'}, 'current': {'last_updated_epoch': 1729890900, 'last_updated': '2024-10-25 14:15', 'temp_c': 20.2, 'temp_f': 68.4, 'is_day': 1, 'condition': {'text': 'Partly cloudy', 'icon': '//cdn.weatherapi.com/weather/64x64/day/116.png', 'code': 1003}, 'wind_mph': 4.9, 'wind_kph': 7.9, 'wind_degree': 266, 'wind_dir': 'W', 'pressure_mb': 1015.0, 'pressure_in': 29.98, 'precip_mm': 0.0, 'precip_in': 0.0, 'humidity': 61, 'cloud': 50, 'feelslike_c': 20.2, 'feelslike_f': 68.4, 'windchill_c': 19.1, 'windchill_f': 66.4, 'heatindex_c': 19.1, 'heatindex_f': 66.4, 'dewpoint_c': 3.8, 'dewpoint_f': 38.8, 'vis_km': 16.0, 'vis_miles': 9.0, 'uv': 5.0, 'gust_mph': 7.5, 'gust_kph': 12.1}}\", 'score': 0.9996058, 'raw_content': None}, {'title': 'San Francisco Bay Area, CA - National Weather Service', 'url': 'https://www.weather.gov/mtr/', 'content': 'Current Hazards. Current Outlooks; Daily Briefing; Submit Report; Detailed Hazards; ... Oct 25, 2024 at 4:16:10 am PDT Watches, Warnings & Advisories. Zoom Out. There are no watches, warnings, or advisories at this time. ... National Weather Service San Francisco Bay Area, CA 21 Grace Hopper Ave, Stop 5 Monterey, CA 93943-5505', 'score': 0.9970765, 'raw_content': None}], 'response_time': 10.29}),\n",
              " AIMessage(content='', additional_kwargs={'tool_calls': [{'id': 'call_a37r', 'function': {'arguments': '{\"query\":\"weather in San Francisco\"}', 'name': 'tavily_search_results_json'}, 'type': 'function'}]}, response_metadata={'token_usage': {'completion_tokens': 44, 'prompt_tokens': 1533, 'total_tokens': 1577, 'completion_time': 0.036666667, 'prompt_time': 0.172087303, 'queue_time': 0.0011503569999999907, 'total_time': 0.20875397}, 'model_name': 'llama3-8b-8192', 'system_fingerprint': 'fp_af05557ca2', 'finish_reason': 'tool_calls', 'logprobs': None}, id='run-c9c91a1d-540f-4786-b267-82f9ba48fa17-0', tool_calls=[{'name': 'tavily_search_results_json', 'args': {'query': 'weather in San Francisco'}, 'id': 'call_a37r', 'type': 'tool_call'}], usage_metadata={'input_tokens': 1533, 'output_tokens': 44, 'total_tokens': 1577}),\n",
              " ToolMessage(content='[{\"url\": \"https://www.weatherapi.com/\", \"content\": \"{\\'location\\': {\\'name\\': \\'San Francisco\\', \\'region\\': \\'California\\', \\'country\\': \\'United States of America\\', \\'lat\\': 37.775, \\'lon\\': -122.4183, \\'tz_id\\': \\'America/Los_Angeles\\', \\'localtime_epoch\\': 1729891400, \\'localtime\\': \\'2024-10-25 14:23\\'}, \\'current\\': {\\'last_updated_epoch\\': 1729890900, \\'last_updated\\': \\'2024-10-25 14:15\\', \\'temp_c\\': 20.2, \\'temp_f\\': 68.4, \\'is_day\\': 1, \\'condition\\': {\\'text\\': \\'Partly cloudy\\', \\'icon\\': \\'//cdn.weatherapi.com/weather/64x64/day/116.png\\', \\'code\\': 1003}, \\'wind_mph\\': 4.9, \\'wind_kph\\': 7.9, \\'wind_degree\\': 266, \\'wind_dir\\': \\'W\\', \\'pressure_mb\\': 1015.0, \\'pressure_in\\': 29.98, \\'precip_mm\\': 0.0, \\'precip_in\\': 0.0, \\'humidity\\': 61, \\'cloud\\': 50, \\'feelslike_c\\': 20.2, \\'feelslike_f\\': 68.4, \\'windchill_c\\': 19.1, \\'windchill_f\\': 66.4, \\'heatindex_c\\': 19.1, \\'heatindex_f\\': 66.4, \\'dewpoint_c\\': 3.8, \\'dewpoint_f\\': 38.8, \\'vis_km\\': 16.0, \\'vis_miles\\': 9.0, \\'uv\\': 5.0, \\'gust_mph\\': 7.5, \\'gust_kph\\': 12.1}}\"}, {\"url\": \"https://www.weathertab.com/en/c/e/10/united-states/california/san-francisco/\", \"content\": \"Avg Low Temps 50 to 60 °F. Explore comprehensive October 2024 weather forecasts for San Francisco, including daily high and low temperatures, precipitation risks, and monthly temperature trends. Featuring detailed day-by-day forecasts, dynamic graphs of daily rain probabilities, and temperature trends to help you plan ahead.\"}]', name='tavily_search_results_json', id='ea4ac7d5-01e7-483b-bcc1-c4459fe4715e', tool_call_id='call_a37r', artifact={'query': 'weather in San Francisco', 'follow_up_questions': None, 'answer': None, 'images': [], 'results': [{'title': 'Weather in San Francisco', 'url': 'https://www.weatherapi.com/', 'content': \"{'location': {'name': 'San Francisco', 'region': 'California', 'country': 'United States of America', 'lat': 37.775, 'lon': -122.4183, 'tz_id': 'America/Los_Angeles', 'localtime_epoch': 1729891400, 'localtime': '2024-10-25 14:23'}, 'current': {'last_updated_epoch': 1729890900, 'last_updated': '2024-10-25 14:15', 'temp_c': 20.2, 'temp_f': 68.4, 'is_day': 1, 'condition': {'text': 'Partly cloudy', 'icon': '//cdn.weatherapi.com/weather/64x64/day/116.png', 'code': 1003}, 'wind_mph': 4.9, 'wind_kph': 7.9, 'wind_degree': 266, 'wind_dir': 'W', 'pressure_mb': 1015.0, 'pressure_in': 29.98, 'precip_mm': 0.0, 'precip_in': 0.0, 'humidity': 61, 'cloud': 50, 'feelslike_c': 20.2, 'feelslike_f': 68.4, 'windchill_c': 19.1, 'windchill_f': 66.4, 'heatindex_c': 19.1, 'heatindex_f': 66.4, 'dewpoint_c': 3.8, 'dewpoint_f': 38.8, 'vis_km': 16.0, 'vis_miles': 9.0, 'uv': 5.0, 'gust_mph': 7.5, 'gust_kph': 12.1}}\", 'score': 0.9898885, 'raw_content': None}, {'title': 'San Francisco, CA Weather Forecast October 2024: Daily Highs/Lows ...', 'url': 'https://www.weathertab.com/en/c/e/10/united-states/california/san-francisco/', 'content': 'Avg Low Temps 50 to 60 °F. Explore comprehensive October 2024 weather forecasts for San Francisco, including daily high and low temperatures, precipitation risks, and monthly temperature trends. Featuring detailed day-by-day forecasts, dynamic graphs of daily rain probabilities, and temperature trends to help you plan ahead.', 'score': 0.967101, 'raw_content': None}], 'response_time': 4.22}),\n",
              " AIMessage(content='The current weather in San Francisco is partly cloudy with a temperature of 68.4°F (20.2°C) and a wind speed of 7.9 km/h (4.9 mph) coming from the west. The humidity is 61% and the precipitation is 0.0 mm (0.0 in).', additional_kwargs={}, response_metadata={'token_usage': {'completion_tokens': 68, 'prompt_tokens': 2105, 'total_tokens': 2173, 'completion_time': 0.056666667, 'prompt_time': 0.235824474, 'queue_time': 0.0003127579999999963, 'total_time': 0.292491141}, 'model_name': 'llama3-8b-8192', 'system_fingerprint': 'fp_af05557ca2', 'finish_reason': 'stop', 'logprobs': None}, id='run-b1524c04-ed0a-479a-9443-ddf2a59797f7-0', usage_metadata={'input_tokens': 2105, 'output_tokens': 68, 'total_tokens': 2173})]"
            ]
          },
          "metadata": {},
          "execution_count": 17
        }
      ]
    },
    {
      "cell_type": "code",
      "source": [
        "async for event in agent_executor.astream_events(\n",
        "    {\"messages\": [HumanMessage(content=\"whats the weather in sf?\")]}, version=\"v1\"\n",
        "):\n",
        "    kind = event[\"event\"]\n",
        "    if kind == \"on_chain_start\":\n",
        "        if (\n",
        "            event[\"name\"] == \"Agent\"\n",
        "        ):  # Was assigned when creating the agent with `.with_config({\"run_name\": \"Agent\"})`\n",
        "            print(\n",
        "                f\"Starting agent: {event['name']} with input: {event['data'].get('input')}\"\n",
        "            )\n",
        "    elif kind == \"on_chain_end\":\n",
        "        if (\n",
        "            event[\"name\"] == \"Agent\"\n",
        "        ):  # Was assigned when creating the agent with `.with_config({\"run_name\": \"Agent\"})`\n",
        "            print()\n",
        "            print(\"--\")\n",
        "            print(\n",
        "                f\"Done agent: {event['name']} with output: {event['data'].get('output')['output']}\"\n",
        "            )\n",
        "    if kind == \"on_chat_model_stream\":\n",
        "        content = event[\"data\"][\"chunk\"].content\n",
        "        if content:\n",
        "            # Empty content in the context of OpenAI means\n",
        "            # that the model is asking for a tool to be invoked.\n",
        "            # So we only print non-empty content\n",
        "            print(content, end=\"|\")\n",
        "    elif kind == \"on_tool_start\":\n",
        "        print(\"--\")\n",
        "        print(\n",
        "            f\"Starting tool: {event['name']} with inputs: {event['data'].get('input')}\"\n",
        "        )\n",
        "    elif kind == \"on_tool_end\":\n",
        "        print(f\"Done tool: {event['name']}\")\n",
        "        print(f\"Tool output was: {event['data'].get('output')}\")\n",
        "        print(\"--\")"
      ],
      "metadata": {
        "colab": {
          "base_uri": "https://localhost:8080/"
        },
        "id": "i1ZxhzT7j3JU",
        "outputId": "a5779ac1-eb3d-4f9d-831a-80ee2568af21"
      },
      "execution_count": 22,
      "outputs": [
        {
          "output_type": "stream",
          "name": "stdout",
          "text": [
            "Tool use failed: no tool can be called with name weather_data_json|"
          ]
        }
      ]
    },
    {
      "cell_type": "code",
      "source": [
        "from langgraph.checkpoint.memory import MemorySaver\n",
        "\n",
        "memory = MemorySaver()"
      ],
      "metadata": {
        "id": "0n9Nd3MukilZ"
      },
      "execution_count": 23,
      "outputs": []
    },
    {
      "cell_type": "code",
      "source": [
        "agent_executor = create_react_agent(model, tools, checkpointer=memory)\n",
        "\n",
        "config = {\"configurable\": {\"thread_id\": \"abc123\"}}"
      ],
      "metadata": {
        "id": "tJQTK09vlFCv"
      },
      "execution_count": 24,
      "outputs": []
    },
    {
      "cell_type": "code",
      "source": [
        "for chunk in agent_executor.stream(\n",
        "    {\"messages\": [HumanMessage(content=\"hi im bob!\")]}, config\n",
        "):\n",
        "    print(chunk)\n",
        "    print(\"----\")"
      ],
      "metadata": {
        "colab": {
          "base_uri": "https://localhost:8080/"
        },
        "id": "_Xw9wx0klItb",
        "outputId": "7570e6f1-cb26-42d1-db82-095cfc9312d6"
      },
      "execution_count": 25,
      "outputs": [
        {
          "output_type": "stream",
          "name": "stdout",
          "text": [
            "{'agent': {'messages': [AIMessage(content='', additional_kwargs={'tool_calls': [{'id': 'call_5eea', 'function': {'arguments': '{\"query\":\"hello\"}', 'name': 'tavily_search_results_json'}, 'type': 'function'}]}, response_metadata={'token_usage': {'completion_tokens': 77, 'prompt_tokens': 943, 'total_tokens': 1020, 'completion_time': 0.064166667, 'prompt_time': 0.13318589, 'queue_time': 0.0011410890000000118, 'total_time': 0.197352557}, 'model_name': 'llama3-8b-8192', 'system_fingerprint': 'fp_a97cfe35ae', 'finish_reason': 'tool_calls', 'logprobs': None}, id='run-27795371-58d0-4dab-acf3-ef890e6c887c-0', tool_calls=[{'name': 'tavily_search_results_json', 'args': {'query': 'hello'}, 'id': 'call_5eea', 'type': 'tool_call'}], usage_metadata={'input_tokens': 943, 'output_tokens': 77, 'total_tokens': 1020})]}}\n",
            "----\n",
            "{'tools': {'messages': [ToolMessage(content='[{\"url\": \"https://www.merriam-webster.com/dictionary/hello\", \"content\": \"Learn the origin, usage, and synonyms of the word hello, an expression or gesture of greeting. See examples of hello in sentences and related articles from Merriam-Webster.\"}, {\"url\": \"https://m.youtube.com/watch?v=CaHWq1rheeU\", \"content\": \"\\\\\"Hello\\\\\" is taken from the new album, 25, out November 20.http://adele.comFollow Adele on: Facebook - https://www.facebook.com/AdeleTwitter - https://twitter.\"}]', name='tavily_search_results_json', id='ebfbdc47-e2b9-403f-ab9b-47d098fe1e52', tool_call_id='call_5eea', artifact={'query': 'hello', 'follow_up_questions': None, 'answer': None, 'images': [], 'results': [{'title': 'Hello Definition & Meaning - Merriam-Webster', 'url': 'https://www.merriam-webster.com/dictionary/hello', 'content': 'Learn the origin, usage, and synonyms of the word hello, an expression or gesture of greeting. See examples of hello in sentences and related articles from Merriam-Webster.', 'score': 0.98662347, 'raw_content': None}, {'title': 'Adele - Hello | Lyrics | HD - YouTube', 'url': 'https://m.youtube.com/watch?v=CaHWq1rheeU', 'content': '\"Hello\" is taken from the new album, 25, out November 20.http://adele.comFollow Adele on: Facebook - https://www.facebook.com/AdeleTwitter - https://twitter.', 'score': 0.96210754, 'raw_content': None}], 'response_time': 4.34})]}}\n",
            "----\n",
            "{'agent': {'messages': [AIMessage(content='Hello Bob! It seems like you\\'re looking for some information about the word \"hello\". According to the results from the tool, it\\'s a greeting expression or gesture, and it\\'s also the title of a song by Adele. If you\\'d like to know more about the word or its usage, I\\'d be happy to help you with that!', additional_kwargs={}, response_metadata={'token_usage': {'completion_tokens': 72, 'prompt_tokens': 1136, 'total_tokens': 1208, 'completion_time': 0.06, 'prompt_time': 0.133412209, 'queue_time': 0.0010207299999999975, 'total_time': 0.193412209}, 'model_name': 'llama3-8b-8192', 'system_fingerprint': 'fp_6a6771ae9c', 'finish_reason': 'stop', 'logprobs': None}, id='run-7ab3166a-d70c-4a57-ae66-a4aae6daa98c-0', usage_metadata={'input_tokens': 1136, 'output_tokens': 72, 'total_tokens': 1208})]}}\n",
            "----\n"
          ]
        }
      ]
    },
    {
      "cell_type": "code",
      "source": [
        "for chunk in agent_executor.stream(\n",
        "    {\"messages\": [HumanMessage(content=\"whats my name?\")]}, config\n",
        "):\n",
        "    print(chunk)\n",
        "    print(\"----\")"
      ],
      "metadata": {
        "colab": {
          "base_uri": "https://localhost:8080/"
        },
        "id": "9LUhxHaUlMLv",
        "outputId": "957f143d-5960-48e5-a539-b08f37531996"
      },
      "execution_count": 26,
      "outputs": [
        {
          "output_type": "stream",
          "name": "stdout",
          "text": [
            "{'agent': {'messages': [AIMessage(content='Bob!', additional_kwargs={}, response_metadata={'token_usage': {'completion_tokens': 3, 'prompt_tokens': 1222, 'total_tokens': 1225, 'completion_time': 0.002630265, 'prompt_time': 0.070828795, 'queue_time': 0.0017620339999999957, 'total_time': 0.07345906}, 'model_name': 'llama3-8b-8192', 'system_fingerprint': 'fp_179b0f92c9', 'finish_reason': 'stop', 'logprobs': None}, id='run-6c49da1e-86e1-4ad2-86f2-ff10a10ea05d-0', usage_metadata={'input_tokens': 1222, 'output_tokens': 3, 'total_tokens': 1225})]}}\n",
            "----\n"
          ]
        }
      ]
    },
    {
      "cell_type": "code",
      "source": [
        "config = {\"configurable\": {\"thread_id\": \"xyz123\"}}\n",
        "for chunk in agent_executor.stream(\n",
        "    {\"messages\": [HumanMessage(content=\"whats my name?\")]}, config\n",
        "):\n",
        "    print(chunk)\n",
        "    print(\"----\")"
      ],
      "metadata": {
        "colab": {
          "base_uri": "https://localhost:8080/"
        },
        "id": "KifKyeYflRTZ",
        "outputId": "cec913d1-b507-46c1-dacf-5272a5ece38d"
      },
      "execution_count": 27,
      "outputs": [
        {
          "output_type": "stream",
          "name": "stdout",
          "text": [
            "{'agent': {'messages': [AIMessage(content='', additional_kwargs={'tool_calls': [{'id': 'call_5kdy', 'function': {'arguments': '{\"query\":\"What is the user\\'s name?\"}', 'name': 'tavily_search_results_json'}, 'type': 'function'}]}, response_metadata={'token_usage': {'completion_tokens': 82, 'prompt_tokens': 944, 'total_tokens': 1026, 'completion_time': 0.068333333, 'prompt_time': 0.0437144, 'queue_time': 0.0018957149999999992, 'total_time': 0.112047733}, 'model_name': 'llama3-8b-8192', 'system_fingerprint': 'fp_179b0f92c9', 'finish_reason': 'tool_calls', 'logprobs': None}, id='run-c463a01f-ea43-4be9-88ca-96783a836a41-0', tool_calls=[{'name': 'tavily_search_results_json', 'args': {'query': \"What is the user's name?\"}, 'id': 'call_5kdy', 'type': 'tool_call'}], usage_metadata={'input_tokens': 944, 'output_tokens': 82, 'total_tokens': 1026})]}}\n",
            "----\n",
            "{'tools': {'messages': [ToolMessage(content='[{\"url\": \"https://www.computerhope.com/jargon/u/username.htm\", \"content\": \"Username\\\\nAlso called an account name, login ID, nickname, and user ID, username or user name is the name given to a computer or computer network user. For example, an individual known as John Smith may be assigned the username smitj, the first four letters of the last name, followed by the first letter of the first name. If you do not recall creating a username or don\\'t remember the name you chose, try using your e-mail address as your username. In our earlier example, \\\\\"John Smith\\\\\" is the user name, and \\\\\"smitj\\\\\" is the username used with his password.\\\\n The Microsoft Manual of Style 4th Edition states that the user name should be two words unless describing a label in the user interface.\\\\n\"}, {\"url\": \"https://usersearch.org/updates/what-is-a-username\", \"content\": \"Account Name. This term is used broadly to refer to the name associated with an online account. It can be your email address, a user ID you create, or another identifier that distinguishes your account from others on the same platform. Login. Similar to an account name, a login name is specifically the identifier you use to access an account.\"}]', name='tavily_search_results_json', id='a15c5861-38c6-4975-b3b5-c79cb365fbb8', tool_call_id='call_5kdy', artifact={'query': \"What is the user's name?\", 'follow_up_questions': None, 'answer': None, 'images': [], 'results': [{'title': 'What is a Username? - Computer Hope', 'url': 'https://www.computerhope.com/jargon/u/username.htm', 'content': 'Username\\nAlso called an account name, login ID, nickname, and user ID, username or user name is the name given to a computer or computer network user. For example, an individual known as John Smith may be assigned the username smitj, the first four letters of the last name, followed by the first letter of the first name. If you do not recall creating a username or don\\'t remember the name you chose, try using your e-mail address as your username. In our earlier example, \"John Smith\" is the user name, and \"smitj\" is the username used with his password.\\n The Microsoft Manual of Style 4th Edition states that the user name should be two words unless describing a label in the user interface.\\n', 'score': 0.69945973, 'raw_content': None}, {'title': 'What is a Username? (With Examples) - News & Articles', 'url': 'https://usersearch.org/updates/what-is-a-username', 'content': 'Account Name. This term is used broadly to refer to the name associated with an online account. It can be your email address, a user ID you create, or another identifier that distinguishes your account from others on the same platform. Login. Similar to an account name, a login name is specifically the identifier you use to access an account.', 'score': 0.43932635, 'raw_content': None}], 'response_time': 3.58})]}}\n",
            "----\n",
            "{'agent': {'messages': [AIMessage(content=\"Unfortunately, the tool call result doesn't provide a direct answer to your question about your name. The result seems to be a collection of text describing what a username is, its definition, and how it's used.\", additional_kwargs={}, response_metadata={'token_usage': {'completion_tokens': 44, 'prompt_tokens': 2594, 'total_tokens': 2638, 'completion_time': 0.036666667, 'prompt_time': 0.120937697, 'queue_time': -0.18789625100000001, 'total_time': 0.157604364}, 'model_name': 'llama3-8b-8192', 'system_fingerprint': 'fp_179b0f92c9', 'finish_reason': 'stop', 'logprobs': None}, id='run-a565c688-fd21-4ab4-b41f-bd7c6ff84c8d-0', usage_metadata={'input_tokens': 2594, 'output_tokens': 44, 'total_tokens': 2638})]}}\n",
            "----\n"
          ]
        }
      ]
    },
    {
      "cell_type": "code",
      "source": [],
      "metadata": {
        "id": "UDhUSa8KlVEw"
      },
      "execution_count": null,
      "outputs": []
    }
  ]
}